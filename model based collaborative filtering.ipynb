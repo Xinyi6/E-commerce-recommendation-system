{
  "nbformat": 4,
  "nbformat_minor": 0,
  "metadata": {
    "colab": {
      "name": "Evaluation.ipynb",
      "version": "0.3.2",
      "provenance": []
    },
    "kernelspec": {
      "display_name": "Python 3",
      "language": "python",
      "name": "python3"
    }
  },
  "cells": [
    {
      "metadata": {
        "id": "rYoGTCSH19IJ",
        "colab_type": "text"
      },
      "cell_type": "markdown",
      "source": [
        "# 1. Import package"
      ]
    },
    {
      "metadata": {
        "id": "knkKsLT62meO",
        "colab_type": "code",
        "colab": {}
      },
      "cell_type": "code",
      "source": [
        "! pip install -q surprise"
      ],
      "execution_count": 0,
      "outputs": []
    },
    {
      "metadata": {
        "id": "TbHkdFhE19IM",
        "colab_type": "code",
        "colab": {}
      },
      "cell_type": "code",
      "source": [
        "import pandas as pd\n",
        "\n",
        "from surprise import Dataset\n",
        "from surprise import Reader\n",
        "from surprise.model_selection import cross_validate\n",
        "from surprise.accuracy import mae\n",
        "\n",
        "from surprise import SVD\n",
        "from surprise import KNNBasic"
      ],
      "execution_count": 0,
      "outputs": []
    },
    {
      "metadata": {
        "id": "GF2CHz_q19IS",
        "colab_type": "text"
      },
      "cell_type": "markdown",
      "source": [
        "# 2. Load Data"
      ]
    },
    {
      "metadata": {
        "id": "355XcPKw19IV",
        "colab_type": "code",
        "colab": {}
      },
      "cell_type": "code",
      "source": [
        "train_df = pd.read_csv('data/training.txt',header = None, sep = '\\t')\n",
        "test_df = pd.read_csv('data/test.txt', header = None, sep = '\\t')\n",
        "train_df.columns = ['userID','itemID','rating']\n",
        "test_df.columns = ['userID','itemID','rating']\n",
        "\n",
        "reader = Reader(rating_scale=(1, 5))\n",
        "train = Dataset.load_from_df(train_df[['userID', 'itemID', 'rating']], reader)\n",
        "test = Dataset.load_from_df(test_df[['userID', 'itemID', 'rating']], reader)\n",
        "\n",
        "trainset = train.build_full_trainset()\n",
        "testset = test.build_full_trainset()"
      ],
      "execution_count": 0,
      "outputs": []
    },
    {
      "metadata": {
        "id": "KCBXjuBC19Ia",
        "colab_type": "text"
      },
      "cell_type": "markdown",
      "source": [
        "# 3. Recommendation"
      ]
    },
    {
      "metadata": {
        "id": "PZOclbMf19Ic",
        "colab_type": "text"
      },
      "cell_type": "markdown",
      "source": [
        "## 3.1 SVM-based CF"
      ]
    },
    {
      "metadata": {
        "id": "1uid3Vi719Ic",
        "colab_type": "code",
        "colab": {},
        "outputId": "cd425335-3f67-4da4-9856-b1fe6e1cb311"
      },
      "cell_type": "code",
      "source": [
        "algo_svm = SVD()\n",
        "algo_svm.fit(trainset)"
      ],
      "execution_count": 0,
      "outputs": [
        {
          "output_type": "execute_result",
          "data": {
            "text/plain": [
              "<surprise.prediction_algorithms.matrix_factorization.SVD at 0x83118d0>"
            ]
          },
          "metadata": {
            "tags": []
          },
          "execution_count": 7
        }
      ]
    },
    {
      "metadata": {
        "id": "Z4aE2Trr19Ij",
        "colab_type": "code",
        "colab": {},
        "outputId": "2df15d72-1d7f-40e8-9389-a56aac337c17"
      },
      "cell_type": "code",
      "source": [
        "uid = 'A24FQNZ2ZCP9UH'\n",
        "iid = 'B004DK0UDA'\n",
        "pred = algo_svm.predict(uid, iid, r_ui=4, verbose=True)"
      ],
      "execution_count": 0,
      "outputs": [
        {
          "output_type": "stream",
          "text": [
            "user: A24FQNZ2ZCP9UH item: B004DK0UDA r_ui = 4.00   est = 4.73   {'was_impossible': False}\n"
          ],
          "name": "stdout"
        }
      ]
    },
    {
      "metadata": {
        "id": "66s9qAeU19Io",
        "colab_type": "text"
      },
      "cell_type": "markdown",
      "source": [
        "## 3.1 KNN-based CF"
      ]
    },
    {
      "metadata": {
        "id": "Yne5r1yM19Ip",
        "colab_type": "code",
        "colab": {},
        "outputId": "3ede0756-e239-4f0a-f775-33ae3d451fab"
      },
      "cell_type": "code",
      "source": [
        "algo_knn = KNNBasic()\n",
        "algo_knn.fit(trainset)"
      ],
      "execution_count": 0,
      "outputs": [
        {
          "output_type": "stream",
          "text": [
            "Computing the msd similarity matrix...\n",
            "Done computing similarity matrix.\n"
          ],
          "name": "stdout"
        },
        {
          "output_type": "execute_result",
          "data": {
            "text/plain": [
              "<surprise.prediction_algorithms.knns.KNNBasic at 0x4d5cf60>"
            ]
          },
          "metadata": {
            "tags": []
          },
          "execution_count": 14
        }
      ]
    },
    {
      "metadata": {
        "id": "iZXWWs8d19It",
        "colab_type": "code",
        "colab": {},
        "outputId": "40473c38-b1a3-41ae-fdf9-f91ee4b8a13e"
      },
      "cell_type": "code",
      "source": [
        "uid = 'A24FQNZ2ZCP9UH'\n",
        "iid = 'B004DK0UDA'\n",
        "pred = algo_knn.predict(uid, iid, r_ui=4, verbose=True)"
      ],
      "execution_count": 0,
      "outputs": [
        {
          "output_type": "stream",
          "text": [
            "user: A24FQNZ2ZCP9UH item: B004DK0UDA r_ui = 4.00   est = 4.76   {'actual_k': 40, 'was_impossible': False}\n"
          ],
          "name": "stdout"
        }
      ]
    },
    {
      "metadata": {
        "id": "kHooKDtT19Iv",
        "colab_type": "text"
      },
      "cell_type": "markdown",
      "source": [
        "# 4. Evaluation"
      ]
    },
    {
      "metadata": {
        "id": "weAPwFLS19Ix",
        "colab_type": "text"
      },
      "cell_type": "markdown",
      "source": [
        "## 4.1 SVD-based CF"
      ]
    },
    {
      "metadata": {
        "id": "jHYJzkGN19Ix",
        "colab_type": "code",
        "colab": {},
        "outputId": "e34131be-b0fd-47fe-fc81-59543273a502"
      },
      "cell_type": "code",
      "source": [
        "mae(algo_svm.test(trainset.build_testset()),verbose=True) # train error\n",
        "mae(algo_svm.test(testset.build_testset()), verbose=True) # test error"
      ],
      "execution_count": 0,
      "outputs": [
        {
          "output_type": "stream",
          "text": [
            "MAE:  0.5810\n",
            "MAE:  0.8508\n"
          ],
          "name": "stdout"
        },
        {
          "output_type": "execute_result",
          "data": {
            "text/plain": [
              "0.8507503978952995"
            ]
          },
          "metadata": {
            "tags": []
          },
          "execution_count": 10
        }
      ]
    },
    {
      "metadata": {
        "id": "kBuKNEQo19I1",
        "colab_type": "text"
      },
      "cell_type": "markdown",
      "source": [
        "## 4.2 KNN-based CF"
      ]
    },
    {
      "metadata": {
        "id": "a0jju2tM19I3",
        "colab_type": "code",
        "colab": {},
        "outputId": "6ff7b18f-ff46-42e2-8427-df539ca36f97"
      },
      "cell_type": "code",
      "source": [
        "mae(algo_knn.test(trainset.build_testset()),verbose=True)\n",
        "mae(algo_knn.test(testset.build_testset()), verbose=True)"
      ],
      "execution_count": 0,
      "outputs": [
        {
          "output_type": "stream",
          "text": [
            "MAE:  0.3038\n",
            "MAE:  0.9141\n"
          ],
          "name": "stdout"
        },
        {
          "output_type": "execute_result",
          "data": {
            "text/plain": [
              "0.9140914756042887"
            ]
          },
          "metadata": {
            "tags": []
          },
          "execution_count": 6
        }
      ]
    }
  ]
}