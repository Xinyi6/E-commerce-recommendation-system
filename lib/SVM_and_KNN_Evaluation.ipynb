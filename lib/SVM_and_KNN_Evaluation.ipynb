{
  "nbformat": 4,
  "nbformat_minor": 0,
  "metadata": {
    "colab": {
      "name": "SVM and KNN Evaluation.ipynb",
      "version": "0.3.2",
      "provenance": [],
      "collapsed_sections": []
    },
    "kernelspec": {
      "name": "python3",
      "display_name": "Python 3"
    },
    "accelerator": "GPU"
  },
  "cells": [
    {
      "metadata": {
        "id": "QmBssrJndeBf",
        "colab_type": "text"
      },
      "cell_type": "markdown",
      "source": [
        "# 1. Import package"
      ]
    },
    {
      "metadata": {
        "id": "2RmcPRoEdkXJ",
        "colab_type": "code",
        "outputId": "1bafc53b-4a6e-404e-93cd-544f74f2a903",
        "colab": {
          "base_uri": "https://localhost:8080/",
          "height": 301
        }
      },
      "cell_type": "code",
      "source": [
        "!pip install surprise"
      ],
      "execution_count": 0,
      "outputs": [
        {
          "output_type": "stream",
          "text": [
            "Collecting surprise\n",
            "  Downloading https://files.pythonhosted.org/packages/61/de/e5cba8682201fcf9c3719a6fdda95693468ed061945493dea2dd37c5618b/surprise-0.1-py2.py3-none-any.whl\n",
            "Collecting scikit-surprise (from surprise)\n",
            "\u001b[?25l  Downloading https://files.pythonhosted.org/packages/4d/fc/cd4210b247d1dca421c25994740cbbf03c5e980e31881f10eaddf45fdab0/scikit-surprise-1.0.6.tar.gz (3.3MB)\n",
            "\u001b[K    100% |████████████████████████████████| 3.3MB 10.4MB/s \n",
            "\u001b[?25hRequirement already satisfied: joblib>=0.11 in /usr/local/lib/python3.6/dist-packages (from scikit-surprise->surprise) (0.13.0)\n",
            "Requirement already satisfied: numpy>=1.11.2 in /usr/local/lib/python3.6/dist-packages (from scikit-surprise->surprise) (1.14.6)\n",
            "Requirement already satisfied: scipy>=1.0.0 in /usr/local/lib/python3.6/dist-packages (from scikit-surprise->surprise) (1.1.0)\n",
            "Requirement already satisfied: six>=1.10.0 in /usr/local/lib/python3.6/dist-packages (from scikit-surprise->surprise) (1.11.0)\n",
            "Building wheels for collected packages: scikit-surprise\n",
            "  Running setup.py bdist_wheel for scikit-surprise ... \u001b[?25l-\b \b\\\b \b|\b \b/\b \b-\b \b\\\b \b|\b \b/\b \b-\b \b\\\b \b|\b \b/\b \b-\b \b\\\b \bdone\n",
            "\u001b[?25h  Stored in directory: /root/.cache/pip/wheels/ec/c0/55/3a28eab06b53c220015063ebbdb81213cd3dcbb72c088251ec\n",
            "Successfully built scikit-surprise\n",
            "Installing collected packages: scikit-surprise, surprise\n",
            "Successfully installed scikit-surprise-1.0.6 surprise-0.1\n"
          ],
          "name": "stdout"
        }
      ]
    },
    {
      "metadata": {
        "id": "OrlT6M6RdeBh",
        "colab_type": "code",
        "colab": {}
      },
      "cell_type": "code",
      "source": [
        "import pandas as pd\n",
        "\n",
        "from surprise import Dataset\n",
        "from surprise import Reader\n",
        "from surprise.model_selection import cross_validate\n",
        "from surprise.accuracy import mae\n",
        "from surprise.accuracy import rmse\n",
        "\n",
        "from surprise import SVD\n",
        "from surprise import KNNBasic"
      ],
      "execution_count": 0,
      "outputs": []
    },
    {
      "metadata": {
        "id": "3xMxH-BxdeBm",
        "colab_type": "text"
      },
      "cell_type": "markdown",
      "source": [
        "# 2. Load Data"
      ]
    },
    {
      "metadata": {
        "id": "Hc6ivYLUdeBn",
        "colab_type": "code",
        "colab": {}
      },
      "cell_type": "code",
      "source": [
        "train_df = pd.read_csv('training.txt',header = None, sep = '\\t')\n",
        "test_df = pd.read_csv('test.txt', header = None, sep = '\\t')\n",
        "train_df.columns = ['userID','itemID','rating']\n",
        "test_df.columns = ['userID','itemID','rating']\n",
        "\n",
        "reader = Reader(rating_scale=(1, 5))\n",
        "train = Dataset.load_from_df(train_df[['userID', 'itemID', 'rating']], reader)\n",
        "test = Dataset.load_from_df(test_df[['userID', 'itemID', 'rating']], reader)\n",
        "\n",
        "trainset = train.build_full_trainset()\n",
        "testset = test.build_full_trainset()"
      ],
      "execution_count": 0,
      "outputs": []
    },
    {
      "metadata": {
        "id": "IrrGeJ5Bku2d",
        "colab_type": "code",
        "colab": {}
      },
      "cell_type": "code",
      "source": [
        "anti_testset = testset.build_anti_testset()"
      ],
      "execution_count": 0,
      "outputs": []
    },
    {
      "metadata": {
        "id": "K7YiExdUdeBq",
        "colab_type": "text"
      },
      "cell_type": "markdown",
      "source": [
        "# 3. Recommendation"
      ]
    },
    {
      "metadata": {
        "id": "72W6-hQxdeBr",
        "colab_type": "code",
        "colab": {}
      },
      "cell_type": "code",
      "source": [
        "from collections import defaultdict\n",
        "\n",
        "def get_top_n(predictions, n=10):\n",
        "    '''Return the top-N recommendation for each user from a set of predictions.\n",
        "\n",
        "    Args:\n",
        "        predictions(list of Prediction objects): The list of predictions, as\n",
        "            returned by the test method of an algorithm.\n",
        "        n(int): The number of recommendation to output for each user. Default\n",
        "            is 10.\n",
        "\n",
        "    Returns:\n",
        "    A dict where keys are user (raw) ids and values are lists of tuples:\n",
        "        [(raw item id, rating estimation), ...] of size n.\n",
        "    '''\n",
        "\n",
        "    # First map the predictions to each user.\n",
        "    top_n = defaultdict(list)\n",
        "    for uid, iid, true_r, est, _ in predictions:\n",
        "        top_n[uid].append((iid, est))\n",
        "\n",
        "    # Then sort the predictions for each user and retrieve the k highest ones.\n",
        "    for uid, user_ratings in top_n.items():\n",
        "        user_ratings.sort(key=lambda x: x[1], reverse=True)\n",
        "        top_n[uid] = user_ratings[:n]\n",
        "\n",
        "    return top_n"
      ],
      "execution_count": 0,
      "outputs": []
    },
    {
      "metadata": {
        "id": "smMK2MeAdeBu",
        "colab_type": "text"
      },
      "cell_type": "markdown",
      "source": [
        "## 3.1 SVD-based CF"
      ]
    },
    {
      "metadata": {
        "id": "OnyWE--1deBv",
        "colab_type": "code",
        "outputId": "65343338-dd2a-447b-b390-eb14eb9b4e45",
        "colab": {
          "base_uri": "https://localhost:8080/",
          "height": 34
        }
      },
      "cell_type": "code",
      "source": [
        "algo_svd = SVD()\n",
        "algo_svd.fit(trainset)"
      ],
      "execution_count": 0,
      "outputs": [
        {
          "output_type": "execute_result",
          "data": {
            "text/plain": [
              "<surprise.prediction_algorithms.matrix_factorization.SVD at 0x7f4c70c78fd0>"
            ]
          },
          "metadata": {
            "tags": []
          },
          "execution_count": 6
        }
      ]
    },
    {
      "metadata": {
        "id": "Mg6ZJJvWdeB4",
        "colab_type": "code",
        "colab": {}
      },
      "cell_type": "code",
      "source": [
        "# predict ratings for all pairs (u, i) that are NOT in the training set.\n",
        "predictions_svd_recommend = algo_svd.test(anti_testset)"
      ],
      "execution_count": 0,
      "outputs": []
    },
    {
      "metadata": {
        "id": "RfNJFFb5deB7",
        "colab_type": "code",
        "colab": {}
      },
      "cell_type": "code",
      "source": [
        "recommend_top_20 = get_top_n(predictions_svd_recommend, n=20)"
      ],
      "execution_count": 0,
      "outputs": []
    },
    {
      "metadata": {
        "id": "OOrcl1NpdeB-",
        "colab_type": "code",
        "colab": {}
      },
      "cell_type": "code",
      "source": [
        "for uid, user_ratings in top_n.items():\n",
        "    print(uid, [iid for (iid, _) in user_ratings])"
      ],
      "execution_count": 0,
      "outputs": []
    },
    {
      "metadata": {
        "id": "pS6ywhmFdeCG",
        "colab_type": "code",
        "outputId": "bc7b8051-0dcd-4bb4-ea79-fc1e5cbcbda6",
        "colab": {}
      },
      "cell_type": "code",
      "source": [
        "uid = 'A24FQNZ2ZCP9UH'\n",
        "iid = 'B004DK0UDA'\n",
        "pred = algo_svd.predict(uid, iid, r_ui=4, verbose=True)"
      ],
      "execution_count": 0,
      "outputs": [
        {
          "output_type": "stream",
          "text": [
            "user: A24FQNZ2ZCP9UH item: B004DK0UDA r_ui = 4.00   est = 4.51   {'was_impossible': False}\n"
          ],
          "name": "stdout"
        }
      ]
    },
    {
      "metadata": {
        "id": "-J-aR2BIdeCJ",
        "colab_type": "text"
      },
      "cell_type": "markdown",
      "source": [
        "## 3.1 KNN-based CF"
      ]
    },
    {
      "metadata": {
        "id": "ZJJS-4wCdeCK",
        "colab_type": "code",
        "outputId": "a728308b-a714-4a6e-8668-18062699e52a",
        "colab": {}
      },
      "cell_type": "code",
      "source": [
        "algo_knn = KNNBasic()\n",
        "algo_knn.fit(trainset)"
      ],
      "execution_count": 0,
      "outputs": [
        {
          "output_type": "stream",
          "text": [
            "Computing the msd similarity matrix...\n",
            "Done computing similarity matrix.\n"
          ],
          "name": "stdout"
        },
        {
          "output_type": "execute_result",
          "data": {
            "text/plain": [
              "<surprise.prediction_algorithms.knns.KNNBasic at 0x521e978>"
            ]
          },
          "metadata": {
            "tags": []
          },
          "execution_count": 16
        }
      ]
    },
    {
      "metadata": {
        "id": "s48M2IDDdeCT",
        "colab_type": "code",
        "outputId": "5794ee89-32bd-4867-ceb2-9f6cc615747c",
        "colab": {}
      },
      "cell_type": "code",
      "source": [
        "uid = 'A24FQNZ2ZCP9UH'\n",
        "iid = 'B004DK0UDA'\n",
        "pred = algo_knn.predict(uid, iid, r_ui=4, verbose=True)"
      ],
      "execution_count": 0,
      "outputs": [
        {
          "output_type": "stream",
          "text": [
            "user: A24FQNZ2ZCP9UH item: B004DK0UDA r_ui = 4.00   est = 4.76   {'actual_k': 40, 'was_impossible': False}\n"
          ],
          "name": "stdout"
        }
      ]
    },
    {
      "metadata": {
        "id": "xYmpx7T2deCX",
        "colab_type": "text"
      },
      "cell_type": "markdown",
      "source": [
        "# 4. Evaluation"
      ]
    },
    {
      "metadata": {
        "id": "zWqdztVzdeCX",
        "colab_type": "text"
      },
      "cell_type": "markdown",
      "source": [
        "<img src=\"Precisionrecall.png\" width=\"300\">"
      ]
    },
    {
      "metadata": {
        "id": "FdFHyK1UdeCY",
        "colab_type": "code",
        "colab": {}
      },
      "cell_type": "code",
      "source": [
        "from collections import defaultdict\n",
        "\n",
        "def precision_recall_F1_HR(predictions, k = 20, threshold=3.5):\n",
        "\n",
        "    # First map the predictions to each user.\n",
        "    user_est_true = defaultdict(list) \n",
        "    for uid, _, true_r, est, _ in predictions:\n",
        "        user_est_true[uid].append((est, true_r))\n",
        "        # user_ear_true is a dictionary \n",
        "        # with key = uid (user id)\n",
        "        # and value = [(est,true_r),(est,true_r),...]: a list of (est_rating, true_rating)\n",
        "\n",
        "    precisions = dict()\n",
        "    recalls = dict()\n",
        "    hitrates = dict()\n",
        "    for uid, user_ratings in user_est_true.items():\n",
        "\n",
        "        # Sort user ratings by estimated value\n",
        "        user_ratings.sort(key=lambda x: x[0], reverse=True)\n",
        "\n",
        "        # Number of relevant items (TP + FN)\n",
        "        n_rel = sum((true_r >= threshold) for (_, true_r) in user_ratings)\n",
        "\n",
        "        # Number of recommended items (top k) (TP + FP)\n",
        "        n_rec_k = sum((est >= threshold) for (est, _) in user_ratings[:k])\n",
        "\n",
        "        # Number of relevant and recommended items in top k (TP)\n",
        "        n_rel_and_rec_k = sum(((true_r >= threshold) and (est >= threshold))\n",
        "                              for (est, true_r) in user_ratings[:k])\n",
        "\n",
        "        # Precision@K: Proportion of recommended items that are relevant TP/(TP + FP)\n",
        "        precisions[uid] = n_rel_and_rec_k / n_rec_k if n_rec_k != 0 else 0\n",
        "\n",
        "        # Recall@K: Proportion of relevant items that are recommended TP/(TP + FN)\n",
        "        recalls[uid] = n_rel_and_rec_k / n_rel if n_rel != 0 else 0\n",
        "        \n",
        "        # HitRate@K: TP/(TP + TN + FP + FN)\n",
        "        hitrates[uid] = n_rel_and_rec_k / len(user_ratings)\n",
        "        \n",
        "    \n",
        "    P = sum(prec for prec in precisions.values()) / len(precisions)\n",
        "    R = sum(rec for rec in recalls.values()) / len(recalls)\n",
        "    HR = sum(hr for hr in hitrates.values()) / len(hitrates)\n",
        "    print('Precision:',P)\n",
        "    print('Recall:', R)\n",
        "    print('F1 score:', 2 * P * R/ (P + R))\n",
        "    print('Hit rate:', HR)"
      ],
      "execution_count": 0,
      "outputs": []
    },
    {
      "metadata": {
        "id": "Rq7mv6XMdeCb",
        "colab_type": "text"
      },
      "cell_type": "markdown",
      "source": [
        "## 4.1 SVD-based CF"
      ]
    },
    {
      "metadata": {
        "id": "NzR_0A5_deCd",
        "colab_type": "code",
        "colab": {}
      },
      "cell_type": "code",
      "source": [
        "# predictions\n",
        "predictions_svd_train = algo_svd.test(trainset.build_testset())\n",
        "predictions_svd_test = algo_svd.test(testset.build_testset())"
      ],
      "execution_count": 0,
      "outputs": []
    },
    {
      "metadata": {
        "id": "gogHLR4ideCh",
        "colab_type": "code",
        "outputId": "ee873cd2-faba-49fe-fb3f-3e3fa6f056a7",
        "colab": {}
      },
      "cell_type": "code",
      "source": [
        "predictions_svd_test[0][1]"
      ],
      "execution_count": 0,
      "outputs": [
        {
          "output_type": "execute_result",
          "data": {
            "text/plain": [
              "'B00161DDJM'"
            ]
          },
          "metadata": {
            "tags": []
          },
          "execution_count": 38
        }
      ]
    },
    {
      "metadata": {
        "id": "OlxcCU0pdeCt",
        "colab_type": "code",
        "outputId": "1d560fa2-6112-4c1f-de2e-0f3254a19276",
        "colab": {}
      },
      "cell_type": "code",
      "source": [
        "# precision, recall, F1, hit rate\n",
        "precision_recall_F1_HR(predictions_svd_train, k = 20)\n",
        "precision_recall_F1_HR(predictions_svd_test, k = 20)"
      ],
      "execution_count": 0,
      "outputs": [
        {
          "output_type": "stream",
          "text": [
            "Precision: 0.8490197929894814\n",
            "Recall: 0.9462986599552646\n",
            "F1 score: 0.8950237113238975\n",
            "Hit rate: 0.7608483514673351\n",
            "Precision: 0.7498017126729373\n",
            "Recall: 0.7585513290366065\n",
            "F1 score: 0.7541511435775713\n",
            "Hit rate: 0.7468862543581362\n"
          ],
          "name": "stdout"
        }
      ]
    },
    {
      "metadata": {
        "id": "2WARztBVdeC0",
        "colab_type": "code",
        "outputId": "94111981-6376-474d-d6de-c86a53e0ece5",
        "colab": {}
      },
      "cell_type": "code",
      "source": [
        "# Mean Absolute Error\n",
        "mae(predictions_svd_train) # train\n",
        "mae(predictions_svd_test) # test"
      ],
      "execution_count": 0,
      "outputs": [
        {
          "output_type": "stream",
          "text": [
            "MAE:  0.5799\n",
            "MAE:  0.8497\n"
          ],
          "name": "stdout"
        },
        {
          "output_type": "execute_result",
          "data": {
            "text/plain": [
              "0.8497134373534223"
            ]
          },
          "metadata": {
            "tags": []
          },
          "execution_count": 27
        }
      ]
    },
    {
      "metadata": {
        "id": "2E7-rUvideC6",
        "colab_type": "code",
        "outputId": "a243b3ea-24dd-43ed-a911-80d52e81dd77",
        "colab": {}
      },
      "cell_type": "code",
      "source": [
        "# Root Mean Squared Error\n",
        "rmse(predictions_svd_train) # train\n",
        "rmse(predictions_svd_test) # test"
      ],
      "execution_count": 0,
      "outputs": [
        {
          "output_type": "stream",
          "text": [
            "RMSE: 0.7622\n",
            "RMSE: 1.1073\n"
          ],
          "name": "stdout"
        },
        {
          "output_type": "execute_result",
          "data": {
            "text/plain": [
              "1.1072543725194606"
            ]
          },
          "metadata": {
            "tags": []
          },
          "execution_count": 44
        }
      ]
    },
    {
      "metadata": {
        "id": "iWSRZJiYdeC_",
        "colab_type": "text"
      },
      "cell_type": "markdown",
      "source": [
        "## 4.2 KNN-based CF"
      ]
    },
    {
      "metadata": {
        "id": "JoHYYAzGdeDB",
        "colab_type": "code",
        "colab": {}
      },
      "cell_type": "code",
      "source": [
        "# predictions\n",
        "predictions_knn_train = algo_knn.test(trainset.build_testset())\n",
        "predictions_knn_test = algo_knn.test(testset.build_testset())"
      ],
      "execution_count": 0,
      "outputs": []
    },
    {
      "metadata": {
        "id": "oLNtn7gjdeDE",
        "colab_type": "code",
        "outputId": "ac4c298f-89fd-4f82-bdbd-aceb48cecc6c",
        "colab": {}
      },
      "cell_type": "code",
      "source": [
        "# precision, recall, F1, hit rate\n",
        "precision_recall_F1_HR(predictions_knn_train, k = 20)\n",
        "precision_recall_F1_HR(predictions_knn_test, k = 20)"
      ],
      "execution_count": 0,
      "outputs": [
        {
          "output_type": "stream",
          "text": [
            "Precision: 0.9027194453167956\n",
            "Recall: 0.9574286798259986\n",
            "F1 score: 0.9292695297763668\n",
            "Hit rate: 0.7653271340756546\n",
            "Precision: 0.7375483682668064\n",
            "Recall: 0.7445042215040951\n",
            "F1 score: 0.7410099716137286\n",
            "Hit rate: 0.7327131189857085\n"
          ],
          "name": "stdout"
        }
      ]
    },
    {
      "metadata": {
        "id": "l8K6kCUjdeDJ",
        "colab_type": "code",
        "outputId": "4fffb5dd-c768-4e94-af86-5a1e6ed4d857",
        "colab": {}
      },
      "cell_type": "code",
      "source": [
        "# Mean Absolute Error\n",
        "mae(predictions_knn_train)\n",
        "mae(predictions_knn_test)"
      ],
      "execution_count": 0,
      "outputs": [
        {
          "output_type": "stream",
          "text": [
            "MAE:  0.3038\n",
            "MAE:  0.9141\n"
          ],
          "name": "stdout"
        },
        {
          "output_type": "execute_result",
          "data": {
            "text/plain": [
              "0.9140914756042887"
            ]
          },
          "metadata": {
            "tags": []
          },
          "execution_count": 26
        }
      ]
    },
    {
      "metadata": {
        "id": "FhuC6eW8deDP",
        "colab_type": "code",
        "outputId": "a5db2eb0-e564-4b43-c797-467aac602714",
        "colab": {}
      },
      "cell_type": "code",
      "source": [
        "# Root Mean Squared Error\n",
        "rmse(predictions_knn_train) # train\n",
        "rmse(predictions_knn_test) # test"
      ],
      "execution_count": 0,
      "outputs": [
        {
          "output_type": "stream",
          "text": [
            "RMSE: 0.4410\n",
            "RMSE: 1.2404\n"
          ],
          "name": "stdout"
        },
        {
          "output_type": "execute_result",
          "data": {
            "text/plain": [
              "1.2403941971547823"
            ]
          },
          "metadata": {
            "tags": []
          },
          "execution_count": 31
        }
      ]
    }
  ]
}